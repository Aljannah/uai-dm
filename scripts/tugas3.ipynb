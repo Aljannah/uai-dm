{
 "cells": [
  {
   "cell_type": "markdown",
   "metadata": {},
   "source": [
    "# Data Mining\n",
    "\n",
    "## Tugas 3: k-Nearest Neighbours, k-Means, dan PCA\n",
    "\n",
    "### Mekanisme\n",
    "\n",
    "Anda hanya diwajibkan untuk mengumpulkan file ini saja ke uploader yang disediakan di http://elearning2.uai.ac.id/. Ganti nama file ini saat pengumpulan menjadi **tugas3_NIM.ipynb**.\n",
    "\n",
    "**Keterlambatan**: Pengumpulan tugas yang melebihi tenggat yang telah ditentukan tidak akan diterima. Keterlambatan akan berakibat pada nilai nol untuk tugas ini.\n",
    "\n",
    "**Kolaborasi**: Anda diperbolehkan untuk berdiskusi dengan teman Anda, tetapi *dilarang keras* menyalin kode maupun tulisan dari teman Anda.\n",
    "\n",
    "### Petunjuk\n",
    "\n",
    "Terdapat enam *packages* yang Anda akan gunakan dalam mengerjakan tugas ini, yaitu:\n",
    "\n",
    "- matplotlib\n",
    "- numpy\n",
    "- pandas\n",
    "- scipy\n",
    "- seaborn\n",
    "- scikit-learn\n",
    "\n",
    "Anda diperbolehkan (jika dirasa perlu) untuk mengimpor modul tambahan untuk tugas ini, kecuali dijelaskan sebaliknya. Namun, seharusnya modul yang tersedia sudah cukup untuk memenuhi kebutuhan Anda.\n",
    "\n",
    "Pastikan jawaban Anda singkat, padat, dan jelas. Mayoritas pertanyaan yang diberikan dapat dijawab dalam 3-4 kalimat saja.\n",
    "\n",
    "Sebagian soal tugas ini diadaptasi dari [Assignment 4: Feature Engineering - Introductory Applied Machine Learning](https://github.com/agamemnonc/iaml/blob/master/09_Assignment_4.ipynb)."
   ]
  },
  {
   "cell_type": "markdown",
   "metadata": {},
   "source": [
    "**NIM: **\n",
    "\n",
    "**Nilai akhir: XX/100**"
   ]
  },
  {
   "cell_type": "markdown",
   "metadata": {},
   "source": [
    "### Import"
   ]
  },
  {
   "cell_type": "code",
   "execution_count": null,
   "metadata": {
    "collapsed": true
   },
   "outputs": [],
   "source": [
    "from sklearn.cluster import KMeans\n",
    "from sklearn.decomposition import TruncatedSVD\n",
    "from sklearn.feature_extraction.text import TfidfVectorizer\n",
    "from sklearn.neighbors import KNeighborsClassifier\n",
    "from sklearn.metrics import accuracy_score, adjusted_rand_score, confusion_matrix\n",
    "\n",
    "import matplotlib.pyplot as plt\n",
    "import numpy as np\n",
    "import pandas as pd\n",
    "import seaborn as sns\n",
    "%matplotlib inline\n",
    "\n",
    "RANDOM_STATE = 1945\n",
    "plt.style.use('fivethirtyeight')"
   ]
  },
  {
   "cell_type": "code",
   "execution_count": null,
   "metadata": {
    "collapsed": true
   },
   "outputs": [],
   "source": [
    "# Membaca file\n",
    "from sklearn.datasets import fetch_20newsgroups\n",
    "\n",
    "categories = [\n",
    "    'alt.atheism',\n",
    "    'soc.religion.christian',\n",
    "    'comp.sys.ibm.pc.hardware',\n",
    "    'comp.windows.x',\n",
    "    'rec.sport.baseball',\n",
    "    'rec.sport.hockey',\n",
    "]\n",
    "newsgroups_train = fetch_20newsgroups(subset='train', remove=('headers', 'footers', 'quotes'), categories=categories)\n",
    "newsgroups_test = fetch_20newsgroups(subset='test', remove=('headers', 'footers', 'quotes'), categories=categories)"
   ]
  },
  {
   "cell_type": "markdown",
   "metadata": {},
   "source": [
    "### Deskripsi Dataset\n",
    "\n",
    "Dataset *20 newsgroups* berisi 20000 newsgroups yang terdiri dari 20 topik. Untuk memudahkan tugas kali ini, Anda hanya akan berurusan dengan 6-7 topik saja. Sebetulnya, dataset tersebut juga mengandung beberapa metadata (karena *newsgroups* ini disebarkan melalui e-mail) dan kata-kata yang tidak memberi makna signifikan (*stopwords*). Dataset tersebut telah dibagi menjadi data latih dan data uji."
   ]
  },
  {
   "cell_type": "markdown",
   "metadata": {},
   "source": [
    "## 1. Preprocessing (20 poin)\n",
    "\n",
    "Pada bagian ini, Anda diminta untuk mengekstraksi poin-poin penting dari dataset yang digunakan. Silakan merujuk ke dokumentasi scikit-learn untuk mengetahui cara mengolah dataset yang didiberikan."
   ]
  },
  {
   "cell_type": "markdown",
   "metadata": {},
   "source": [
    "### Soal 1.1 (2 poin)\n",
    "\n",
    "Tunjukkan jumlah dokumen yang terdapat pada `newsgroups_train` dan `newsgroup_test`!"
   ]
  },
  {
   "cell_type": "code",
   "execution_count": null,
   "metadata": {
    "collapsed": true
   },
   "outputs": [],
   "source": []
  },
  {
   "cell_type": "markdown",
   "metadata": {},
   "source": [
    "### Soal 1.2 (3 poin)\n",
    "\n",
    "Tunjukkan distribusi kelas dari `newsgroups_train` dan `newsgroup_test`!"
   ]
  },
  {
   "cell_type": "code",
   "execution_count": null,
   "metadata": {
    "collapsed": true
   },
   "outputs": [],
   "source": []
  },
  {
   "cell_type": "markdown",
   "metadata": {},
   "source": [
    "### Soal 1.3.a (4 poin)\n",
    "\n",
    "Dengan menggunakan TF-IDF, buatlah vektor dari dokumen pada `newsgroups_train`. **Buang *stopwords* saat membentuk vektor**. Lalu, transformasikan pula dokumen pada `newsgroups_test` menjadi vektor dokumen!\n",
    "\n",
    "*Catatan: Untuk keseragaman, simpan vektor dari `newsgroups_train` dalam `X_train` dan `newsgroups_test` dalam `X_test`. Kelas dari kedua dataset tersebut, secara berurut, disimpan dalam `y_train` dan `y_test`.*"
   ]
  },
  {
   "cell_type": "code",
   "execution_count": null,
   "metadata": {
    "collapsed": true
   },
   "outputs": [],
   "source": []
  },
  {
   "cell_type": "markdown",
   "metadata": {},
   "source": [
    "### Soal 1.3.b (2 poin)\n",
    "\n",
    "Berapa dimensi vektor yang dihasilkan dari hasil ekstraksi dengan TF-IDF tersebut?"
   ]
  },
  {
   "cell_type": "code",
   "execution_count": null,
   "metadata": {
    "collapsed": true
   },
   "outputs": [],
   "source": []
  },
  {
   "cell_type": "markdown",
   "metadata": {},
   "source": [
    "### Soal 1.3.c (2 poin)\n",
    "\n",
    "Apa kelebihan dari metode TF-IDF dibandingkan Bag-of-Words?"
   ]
  },
  {
   "cell_type": "markdown",
   "metadata": {},
   "source": [
    "_Jawaban Anda di sini_"
   ]
  },
  {
   "cell_type": "markdown",
   "metadata": {},
   "source": [
    "### Soal 1.4 (2 poin)\n",
    "\n",
    "Buatlah variabel baru yang berisi dataset dari data uji 20 newsgroups untuk kategori `talk.religion.misc` saja!"
   ]
  },
  {
   "cell_type": "code",
   "execution_count": null,
   "metadata": {
    "collapsed": true
   },
   "outputs": [],
   "source": []
  },
  {
   "cell_type": "markdown",
   "metadata": {},
   "source": [
    "### Soal 1.5 (5 poin)\n",
    "\n",
    "Lakukan eksplorasi awal terhadap dataset yang telah diberikan."
   ]
  },
  {
   "cell_type": "code",
   "execution_count": null,
   "metadata": {
    "collapsed": true
   },
   "outputs": [],
   "source": []
  },
  {
   "cell_type": "markdown",
   "metadata": {},
   "source": [
    "## 2. k-Nearest Neighbours (40 poin)\n",
    "\n",
    "Anda diminta untuk mengimplementasikan dan menjelaskan beberapa konsep yang digunakan dalam algoritma k-Nearest Neighbours. Pada bagian ini, Anda juga akan melihat efek dari menggunakan metode penghitungan jarak yang berbeda."
   ]
  },
  {
   "cell_type": "markdown",
   "metadata": {},
   "source": [
    "### Soal 2.1.a (5 poin)\n",
    "\n",
    "Dengan k-Nearest Neighbours, klasifikasikan data uji dari data latih dengan menggunakan $k \\in [1, 15]$, lalu gambarkan _line plot_ perubahan akurasinya! Jangan lupa untuk memberikan label pada sumbu-sumbunya!"
   ]
  },
  {
   "cell_type": "code",
   "execution_count": null,
   "metadata": {
    "collapsed": true
   },
   "outputs": [],
   "source": []
  },
  {
   "cell_type": "markdown",
   "metadata": {},
   "source": [
    "### Soal 2.1.b (2 poin)\n",
    "\n",
    "Dari plot tersebut, berapa nilai $k$ yang akan Anda pilih? Mengapa?"
   ]
  },
  {
   "cell_type": "markdown",
   "metadata": {
    "collapsed": true
   },
   "source": [
    "_Jawaban Anda di sini_"
   ]
  },
  {
   "cell_type": "markdown",
   "metadata": {},
   "source": [
    "### Soal 2.1.c (3 poin)\n",
    "\n",
    "Dari nilai $k$ yang Anda pilih, buatlah *heatmap* dari *confusion matrix*-nya! Jangan lupa untuk memberikan label untuk masing-masing sumbunya dan menganotasi tiap kotak pada *heatmap*!"
   ]
  },
  {
   "cell_type": "code",
   "execution_count": null,
   "metadata": {
    "collapsed": true
   },
   "outputs": [],
   "source": []
  },
  {
   "cell_type": "markdown",
   "metadata": {},
   "source": [
    "### Soal 2.1.d (4 poin)\n",
    "\n",
    "Setelah melihat hasil dari Soal 2.1.a dan 2.1.c, apa yang dapat Anda simpulkan sementara?"
   ]
  },
  {
   "cell_type": "markdown",
   "metadata": {},
   "source": [
    "_Jawaban Anda di sini_"
   ]
  },
  {
   "cell_type": "markdown",
   "metadata": {},
   "source": [
    "### Soal 2.2.a (3 poin)\n",
    "\n",
    "Salah satu cara untuk mendapatkan makna tersirat dari kumpulan kata-kata yang ada adalah dengan menerapkan *Latent Semantic Analysis*. Hal ini dapat dilakukan dengan menggunakan `TruncatedSVD` dari scikit-learn. Tugas Anda adalah menghasilkan vektor 100-dimensi untuk `X_train` dan `X_test` dengan `TruncatedSVD`!\n",
    "\n",
    "*Petunjuk: Gunakan `.fit_transform()` dan `.transform()` dan jangan lupa untuk mengatur parameter `random_state`*"
   ]
  },
  {
   "cell_type": "code",
   "execution_count": null,
   "metadata": {
    "collapsed": true
   },
   "outputs": [],
   "source": []
  },
  {
   "cell_type": "markdown",
   "metadata": {},
   "source": [
    "### Soal 2.2.b (5 poin)\n",
    "\n",
    "Coba kembali algoritma k-NN dengan nilai $k \\in [1,15]$, lalu gambarkan plot akurasinya!"
   ]
  },
  {
   "cell_type": "code",
   "execution_count": null,
   "metadata": {
    "collapsed": true
   },
   "outputs": [],
   "source": []
  },
  {
   "cell_type": "markdown",
   "metadata": {},
   "source": [
    "### Soal 2.2.c (3 poin)\n",
    "\n",
    "Gambarkan kembali *heatmap* dari *confusion matrix* dengan $k$ terbaik! Jangan lupa untuk memberikan label untuk masing-masing sumbunya!"
   ]
  },
  {
   "cell_type": "code",
   "execution_count": null,
   "metadata": {
    "collapsed": true
   },
   "outputs": [],
   "source": []
  },
  {
   "cell_type": "markdown",
   "metadata": {},
   "source": [
    "### Soal 2.3.a (3 poin)\n",
    "\n",
    "Berdasarkan variabel yang telah Anda simpan di soal 1.4, buatlah prediksi kategori dari data dalam variabel tersebut dengan model terbaik yang telah Anda dapat."
   ]
  },
  {
   "cell_type": "code",
   "execution_count": null,
   "metadata": {
    "collapsed": true
   },
   "outputs": [],
   "source": []
  },
  {
   "cell_type": "markdown",
   "metadata": {},
   "source": [
    "### Soal 2.3.b (2 poin)\n",
    "\n",
    "Seperti apa hasil prediksi yang dihasilkan? Mengapa hasilnya seperti itu?"
   ]
  },
  {
   "cell_type": "markdown",
   "metadata": {},
   "source": [
    "_Jawaban Anda di sini_"
   ]
  },
  {
   "cell_type": "markdown",
   "metadata": {},
   "source": [
    "### Soal 2.4 (2 poin)\n",
    "\n",
    "Mengapa k-NN disebut sebagai algoritma klasifikasi non-parametrik? Apa yang membedakannya dengan algoritma klasifikasi parametrik?"
   ]
  },
  {
   "cell_type": "markdown",
   "metadata": {},
   "source": [
    "_Jawaban Anda di sini_"
   ]
  },
  {
   "cell_type": "markdown",
   "metadata": {},
   "source": [
    "### Soal 2.5 (2 poin)\n",
    "\n",
    "Seandainya kita menggunakan `CountVectorizer` alih-alih `TfidfVectorizer`, apa yang sebaiknya dilakukan terlebih dahulu agar dapat memperbaiki hasil klasifikasi?"
   ]
  },
  {
   "cell_type": "markdown",
   "metadata": {},
   "source": [
    "_Jawaban Anda di sini_"
   ]
  },
  {
   "cell_type": "markdown",
   "metadata": {},
   "source": [
    "### Soal 2.6 (2 poin)\n",
    "\n",
    "Apa yang dimaksud dengan kelebihan algoritma k-NN yang bersifat *asymptotically correct*?"
   ]
  },
  {
   "cell_type": "markdown",
   "metadata": {},
   "source": [
    "_Jawaban Anda di sini_"
   ]
  },
  {
   "cell_type": "markdown",
   "metadata": {},
   "source": [
    "### Soal 2.7 (4 poin)\n",
    "\n",
    "Tuliskan kesimpulan Anda dari eksperimen ini!"
   ]
  },
  {
   "cell_type": "markdown",
   "metadata": {},
   "source": [
    "_Jawaban Anda di sini_"
   ]
  },
  {
   "cell_type": "markdown",
   "metadata": {},
   "source": [
    "## 3. k-Means (40 poin)"
   ]
  },
  {
   "cell_type": "markdown",
   "metadata": {},
   "source": [
    "### Soal 3.1 (5 poin)\n",
    "\n",
    "Transformasikan `X_train` dengan `TruncatedSVD` ke dalam dua dimensi. Lalu, gambarkan *scatter plot* dengan warna yang berbeda untuk masing-masing kategori/kelas!\n",
    "\n",
    "*Petunjuk: Jangan lupa mengatur parameter `random_state`!*"
   ]
  },
  {
   "cell_type": "code",
   "execution_count": null,
   "metadata": {
    "collapsed": true
   },
   "outputs": [],
   "source": []
  },
  {
   "cell_type": "markdown",
   "metadata": {},
   "source": [
    "### Soal 3.2 (5 poin)\n",
    "\n",
    "Lakukan *clustering* dengan algoritma k-Means untuk menghasilkan 3 klaster dari hasil penerapan PCA (`TruncatedSVD`) pada `X_train`. Gambarkan kembali *scatter plot* dengan warna yang berbeda untuk masing-masing klaster! Kali ini, tunjukkan juga *centroids*-nya dalam gambar!\n",
    "\n",
    "*Petunjuk: Atur `random_state` pada saat inisialisasi `KMeans` agar hasil Anda dapat direproduksi!*"
   ]
  },
  {
   "cell_type": "code",
   "execution_count": null,
   "metadata": {
    "collapsed": true,
    "scrolled": false
   },
   "outputs": [],
   "source": []
  },
  {
   "cell_type": "markdown",
   "metadata": {},
   "source": [
    "### Soal 3.3 (3 poin)\n",
    "\n",
    "Apa kesimpulan yang dapat Anda ambil dari gambar yang dihasilkan pada soal 3.1 dan 3.2?"
   ]
  },
  {
   "cell_type": "markdown",
   "metadata": {},
   "source": [
    "_Jawaban Anda di sini_"
   ]
  },
  {
   "cell_type": "markdown",
   "metadata": {},
   "source": [
    "### Soal 3.4 (4 poin)\n",
    "\n",
    "Lakukan kembali apa yang diperintahkan pada soal 3.2, tetapi ubahlah jumlah klaster menjadi 6! Apa yang dapat Anda amati?"
   ]
  },
  {
   "cell_type": "code",
   "execution_count": null,
   "metadata": {
    "collapsed": true
   },
   "outputs": [],
   "source": []
  },
  {
   "cell_type": "markdown",
   "metadata": {},
   "source": [
    "_Jawaban Anda di sini_"
   ]
  },
  {
   "cell_type": "markdown",
   "metadata": {},
   "source": [
    "### Soal 3.5.a (7 poin)\n",
    "\n",
    "Kali ini, kita ingin melihat pengaruh reduksi dimensi terhadap hasil *clustering*. Gunakan nilai `[1,2,3,5,10,20,50,100]` sebagai parameter `n_components` dari `TruncatedSVD`, lalu jalankan k-Means dengan 6 klaster untuk masing-masing data yang sudah direduksi tersebut. Simpan nilai atribut `inertia_` dan `adjusted_rand_score` untuk tiap iterasi, kemudian buatlah *line plot* dari nilai `adjusted_rand_score` tersebut! Gunakan nilai logaritma untuk sumbu x. Jelaskan apa yang Anda lihat pada *line plot* tersebut!"
   ]
  },
  {
   "cell_type": "code",
   "execution_count": null,
   "metadata": {
    "collapsed": true
   },
   "outputs": [],
   "source": []
  },
  {
   "cell_type": "markdown",
   "metadata": {},
   "source": [
    "_Jawaban Anda di sini_"
   ]
  },
  {
   "cell_type": "markdown",
   "metadata": {},
   "source": [
    "### Soal 3.5.b (3 poin)\n",
    "\n",
    "Apa yang ditunjukkan dari nilai `adjusted_rand_score`? Jelaskan!\n",
    "\n",
    "*Petunjuk: Silakan baca dokumentasi dari scikit-learn untuk ini*"
   ]
  },
  {
   "cell_type": "markdown",
   "metadata": {},
   "source": [
    "_Jawaban Anda di sini_"
   ]
  },
  {
   "cell_type": "markdown",
   "metadata": {},
   "source": [
    "### Soal 3.5.c (3 poin)\n",
    "\n",
    "Mengapa kita tidak bisa memakai nilai inersia untuk menentukan jumlah *principal components*?\n",
    "\n",
    "*Petunjuk: Lihat kembali nilai yang telah didapatkan pada soal 3.5.a!*"
   ]
  },
  {
   "cell_type": "markdown",
   "metadata": {},
   "source": [
    "_Jawaban Anda di sini_"
   ]
  },
  {
   "cell_type": "markdown",
   "metadata": {},
   "source": [
    "### Soal 3.6 (5 poin)\n",
    "\n",
    "Proyeksikan data `X_train` ke dalam $n$ _principal components_ yang menghasilkan ARI terbaik. Lalu, buatlah _scree plot_ dari algoritma k-Means dengan nilai $k \\in [1,12]$. Berapa nilai $k$ terbaik berdasarkan _scree plot_ tersebut?"
   ]
  },
  {
   "cell_type": "code",
   "execution_count": null,
   "metadata": {
    "collapsed": true
   },
   "outputs": [],
   "source": []
  },
  {
   "cell_type": "markdown",
   "metadata": {},
   "source": [
    "_Jawaban Anda di sini_"
   ]
  },
  {
   "cell_type": "markdown",
   "metadata": {},
   "source": [
    "### Soal 3.7 (5 poin)\n",
    "\n",
    "Berikan kesimpulan dari eksperimen pada bagian ini!"
   ]
  },
  {
   "cell_type": "markdown",
   "metadata": {},
   "source": [
    "_Jawaban Anda di sini_"
   ]
  }
 ],
 "metadata": {
  "kernelspec": {
   "display_name": "Python 2",
   "language": "python",
   "name": "python2"
  },
  "language_info": {
   "codemirror_mode": {
    "name": "ipython",
    "version": 2
   },
   "file_extension": ".py",
   "mimetype": "text/x-python",
   "name": "python",
   "nbconvert_exporter": "python",
   "pygments_lexer": "ipython2",
   "version": "2.7.12"
  }
 },
 "nbformat": 4,
 "nbformat_minor": 1
}
